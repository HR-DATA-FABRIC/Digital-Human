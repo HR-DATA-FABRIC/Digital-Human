{
 "cells": [
  {
   "cell_type": "markdown",
   "id": "e2e5d6b2-c44c-456d-94b5-c557f3c06c38",
   "metadata": {},
   "source": [
    "// Tutorial //\n",
    "# How To Create an Intelligent Chatbot in Python Using the spaCy NLP Library\n",
    "### Published on January 15, 2021 · Updated on January 15, 2021\n",
    "\n",
    "https://www.digitalocean.com/community/tutorials/how-to-create-an-intelligent-chatbot-in-python-using-the-spacy-nlp-library"
   ]
  },
  {
   "cell_type": "markdown",
   "id": "34903f69-36cd-4b92-9483-f15e0c431b15",
   "metadata": {},
   "source": [
    "67b3c90d61ed464cc4dba385252c47be\n",
    "\n",
    "###  https://home.openweathermap.org/api_keys\n",
    "#### x9slgjwou6@email.edu.pl"
   ]
  },
  {
   "cell_type": "code",
   "execution_count": null,
   "id": "9f322c23-0184-4312-a503-677fb4980776",
   "metadata": {},
   "outputs": [],
   "source": [
    "# ===> !python -m spacy download en_core_web_md"
   ]
  },
  {
   "cell_type": "code",
   "execution_count": 1,
   "id": "4f36cf17-cbcd-45ce-aafa-c40af9e33dd5",
   "metadata": {},
   "outputs": [],
   "source": [
    "import spacy\n",
    "nlp = spacy.load(\"en_core_web_md\")"
   ]
  },
  {
   "cell_type": "code",
   "execution_count": 75,
   "id": "00187721-b33c-4965-8a8f-6ed26f01cb2c",
   "metadata": {},
   "outputs": [],
   "source": [
    "import requests\n",
    "import json\n",
    "from datetime import date\n",
    "import pandas as pd\n",
    "import numpy as np\n",
    "\n",
    "api_key = \"67b3c90d61ed464cc4dba385252c47be\"\n",
    "\n",
    "def get_weather(city_name):\n",
    "    api_url = \"http://api.openweathermap.org/data/2.5/weather?q={}&appid={}\".format(city_name, api_key)\n",
    "    \n",
    "    response = requests.get(api_url)\n",
    "    response_dict = response.json()\n",
    "    #print(response_dict)\n",
    "    weather = response_dict[\"weather\"][0][\"description\"]\n",
    "\n",
    "    if response.status_code == 200:\n",
    "        return weather\n",
    "    else:\n",
    "        print('[!] HTTP {0} calling [{1}]'.format(response.status_code, api_url))\n",
    "    return None"
   ]
  },
  {
   "cell_type": "code",
   "execution_count": 76,
   "id": "734204c9-1e40-4496-afb3-990dc9753cf0",
   "metadata": {},
   "outputs": [
    {
     "name": "stdout",
     "output_type": "stream",
     "text": [
      "heavy intensity rain\n"
     ]
    }
   ],
   "source": [
    "weather = get_weather(\"Miami\")\n",
    "print(weather)"
   ]
  }
 ],
 "metadata": {
  "kernelspec": {
   "display_name": "Python 3 (ipykernel)",
   "language": "python",
   "name": "python3"
  },
  "language_info": {
   "codemirror_mode": {
    "name": "ipython",
    "version": 3
   },
   "file_extension": ".py",
   "mimetype": "text/x-python",
   "name": "python",
   "nbconvert_exporter": "python",
   "pygments_lexer": "ipython3",
   "version": "3.9.15"
  }
 },
 "nbformat": 4,
 "nbformat_minor": 5
}
