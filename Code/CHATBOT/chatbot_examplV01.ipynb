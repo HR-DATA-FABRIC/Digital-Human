{
 "cells": [
  {
   "cell_type": "markdown",
   "id": "e2e5d6b2-c44c-456d-94b5-c557f3c06c38",
   "metadata": {},
   "source": [
    "// Tutorial //\n",
    "# How To Create an Intelligent Chatbot in Python Using the spaCy NLP Library\n",
    "### Published on January 15, 2021 · Updated on January 15, 2021\n",
    "\n",
    "https://www.digitalocean.com/community/tutorials/how-to-create-an-intelligent-chatbot-in-python-using-the-spacy-nlp-library"
   ]
  },
  {
   "cell_type": "markdown",
   "id": "34903f69-36cd-4b92-9483-f15e0c431b15",
   "metadata": {},
   "source": [
    "67b3c90d61ed464cc4dba385252c47be\n",
    "\n",
    "###  https://home.openweathermap.org/api_keys"
   ]
  },
  {
   "cell_type": "code",
   "execution_count": null,
   "id": "9f322c23-0184-4312-a503-677fb4980776",
   "metadata": {},
   "outputs": [],
   "source": [
    "# ===> !python -m spacy download en_core_web_md"
   ]
  },
  {
   "cell_type": "code",
   "execution_count": null,
   "id": "27b3fc2e-ecda-48ad-abfc-7fa8a5e16f48",
   "metadata": {},
   "outputs": [],
   "source": [
    "from weather_bot import get_weather, chatbot"
   ]
  },
  {
   "cell_type": "code",
   "execution_count": 2,
   "id": "734204c9-1e40-4496-afb3-990dc9753cf0",
   "metadata": {},
   "outputs": [
    {
     "name": "stdout",
     "output_type": "stream",
     "text": [
      "clear sky\n"
     ]
    }
   ],
   "source": [
    "weather = get_weather(\"Rome\")\n",
    "print(weather)"
   ]
  },
  {
   "cell_type": "code",
   "execution_count": 3,
   "id": "d02b92a2-2bc0-4384-b892-d3b6ea3cc92a",
   "metadata": {},
   "outputs": [
    {
     "name": "stdout",
     "output_type": "stream",
     "text": [
      "Rome\n",
      "In Rome, the current weather is: clear sky\n"
     ]
    }
   ],
   "source": [
    "response = chatbot(\"Is it going to rain in Rome today?\")\n",
    "print(response)"
   ]
  },
  {
   "cell_type": "code",
   "execution_count": 4,
   "id": "723938ff-ec5f-4da1-a86b-0c9809a35c51",
   "metadata": {},
   "outputs": [
    {
     "name": "stdout",
     "output_type": "stream",
     "text": [
      "Nijmegen\n",
      "In Nijmegen, the current weather is: overcast clouds\n"
     ]
    }
   ],
   "source": [
    "response = chatbot(\"Is it going to rain in Nijmegen today?\")\n",
    "print(response)"
   ]
  }
 ],
 "metadata": {
  "kernelspec": {
   "display_name": "Python 3.9.7 64-bit",
   "language": "python",
   "name": "python3"
  },
  "language_info": {
   "codemirror_mode": {
    "name": "ipython",
    "version": 3
   },
   "file_extension": ".py",
   "mimetype": "text/x-python",
   "name": "python",
   "nbconvert_exporter": "python",
   "pygments_lexer": "ipython3",
   "version": "3.9.7"
  },
  "vscode": {
   "interpreter": {
    "hash": "c347c8f9a7ef94e4c9e03b4513be7835ed18f45b99a2a817fb579f408b867b16"
   }
  }
 },
 "nbformat": 4,
 "nbformat_minor": 5
}
