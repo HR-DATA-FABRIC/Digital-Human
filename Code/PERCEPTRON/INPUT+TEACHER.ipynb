{
 "cells": [
  {
   "cell_type": "markdown",
   "id": "e4288745",
   "metadata": {},
   "source": [
    "https://www.w3resource.com/pandas/dataframe/pandas-dataframe-apply.html\n",
    "\n",
    "https://github.com/WillKoehrsen/Data-Analysis/blob/master/widgets/Widgets-Overview.ipynb\n",
    "\n",
    "INPUT + DESIRED OUTPUT TABLE"
   ]
  },
  {
   "cell_type": "markdown",
   "id": "b62f8aaf",
   "metadata": {},
   "source": [
    "# Simple Widgets\n",
    "Let's get started using some widgets! We'll start off pretty simple just to see how the interface works."
   ]
  },
  {
   "cell_type": "code",
   "execution_count": 1,
   "id": "a1557f43",
   "metadata": {},
   "outputs": [],
   "source": [
    "# enable loading data from .csv files as a table\n",
    "import pandas as pd\n",
    "\n",
    "# enable Creatio of (data) arrays\n",
    "import numpy as np\n",
    "\n",
    "# Show all code cells outputs\n",
    "from IPython.core.interactiveshell import InteractiveShell\n",
    "InteractiveShell.ast_node_interactivity = 'all'\n",
    "\n",
    "import ipywidgets as widgets\n",
    "from ipywidgets import interact, interact_manual"
   ]
  },
  {
   "cell_type": "code",
   "execution_count": 22,
   "id": "83c01dac",
   "metadata": {},
   "outputs": [
    {
     "name": "stdout",
     "output_type": "stream",
     "text": [
      "Requirement already satisfied: ipywidgets in c:\\users\\promet01\\appdata\\roaming\\python\\python38\\site-packages (8.0.2)\n",
      "Requirement already satisfied: jupyterlab-widgets~=3.0 in c:\\users\\promet01\\appdata\\roaming\\python\\python38\\site-packages (from ipywidgets) (3.0.3)\n",
      "Requirement already satisfied: ipykernel>=4.5.1 in c:\\users\\promet01\\anaconda3\\lib\\site-packages (from ipywidgets) (5.3.4)\n",
      "Requirement already satisfied: ipython>=6.1.0 in c:\\users\\promet01\\anaconda3\\lib\\site-packages (from ipywidgets) (7.22.0)\n",
      "Requirement already satisfied: widgetsnbextension~=4.0 in c:\\users\\promet01\\appdata\\roaming\\python\\python38\\site-packages (from ipywidgets) (4.0.3)\n",
      "Requirement already satisfied: traitlets>=4.3.1 in c:\\users\\promet01\\anaconda3\\lib\\site-packages (from ipywidgets) (5.0.5)\n",
      "Requirement already satisfied: jupyter-client in c:\\users\\promet01\\anaconda3\\lib\\site-packages (from ipykernel>=4.5.1->ipywidgets) (6.1.12)\n",
      "Requirement already satisfied: tornado>=4.2 in c:\\users\\promet01\\anaconda3\\lib\\site-packages (from ipykernel>=4.5.1->ipywidgets) (6.1)\n",
      "Requirement already satisfied: setuptools>=18.5 in c:\\users\\promet01\\anaconda3\\lib\\site-packages (from ipython>=6.1.0->ipywidgets) (52.0.0.post20210125)\n",
      "Requirement already satisfied: colorama in c:\\users\\promet01\\anaconda3\\lib\\site-packages (from ipython>=6.1.0->ipywidgets) (0.4.4)\n",
      "Requirement already satisfied: decorator in c:\\users\\promet01\\anaconda3\\lib\\site-packages (from ipython>=6.1.0->ipywidgets) (5.0.6)\n",
      "Requirement already satisfied: pickleshare in c:\\users\\promet01\\anaconda3\\lib\\site-packages (from ipython>=6.1.0->ipywidgets) (0.7.5)\n",
      "Requirement already satisfied: pygments in c:\\users\\promet01\\anaconda3\\lib\\site-packages (from ipython>=6.1.0->ipywidgets) (2.8.1)\n",
      "Requirement already satisfied: backcall in c:\\users\\promet01\\anaconda3\\lib\\site-packages (from ipython>=6.1.0->ipywidgets) (0.2.0)\n",
      "Requirement already satisfied: prompt-toolkit!=3.0.0,!=3.0.1,<3.1.0,>=2.0.0 in c:\\users\\promet01\\anaconda3\\lib\\site-packages (from ipython>=6.1.0->ipywidgets) (3.0.17)\n",
      "Requirement already satisfied: jedi>=0.16 in c:\\users\\promet01\\anaconda3\\lib\\site-packages (from ipython>=6.1.0->ipywidgets) (0.17.2)\n",
      "Requirement already satisfied: parso<0.8.0,>=0.7.0 in c:\\users\\promet01\\anaconda3\\lib\\site-packages (from jedi>=0.16->ipython>=6.1.0->ipywidgets) (0.7.0)\n",
      "Requirement already satisfied: wcwidth in c:\\users\\promet01\\anaconda3\\lib\\site-packages (from prompt-toolkit!=3.0.0,!=3.0.1,<3.1.0,>=2.0.0->ipython>=6.1.0->ipywidgets) (0.2.5)\n",
      "Requirement already satisfied: ipython-genutils in c:\\users\\promet01\\anaconda3\\lib\\site-packages (from traitlets>=4.3.1->ipywidgets) (0.2.0)\n",
      "Requirement already satisfied: pyzmq>=13 in c:\\users\\promet01\\anaconda3\\lib\\site-packages (from jupyter-client->ipykernel>=4.5.1->ipywidgets) (20.0.0)\n",
      "Requirement already satisfied: python-dateutil>=2.1 in c:\\users\\promet01\\anaconda3\\lib\\site-packages (from jupyter-client->ipykernel>=4.5.1->ipywidgets) (2.8.1)\n",
      "Requirement already satisfied: jupyter-core>=4.6.0 in c:\\users\\promet01\\anaconda3\\lib\\site-packages (from jupyter-client->ipykernel>=4.5.1->ipywidgets) (4.7.1)\n",
      "Requirement already satisfied: pywin32>=1.0 in c:\\users\\promet01\\anaconda3\\lib\\site-packages (from jupyter-core>=4.6.0->jupyter-client->ipykernel>=4.5.1->ipywidgets) (227)\n",
      "Requirement already satisfied: six>=1.5 in c:\\users\\promet01\\anaconda3\\lib\\site-packages (from python-dateutil>=2.1->jupyter-client->ipykernel>=4.5.1->ipywidgets) (1.15.0)\n"
     ]
    },
    {
     "name": "stderr",
     "output_type": "stream",
     "text": [
      "Enabling notebook extension jupyter-js-widgets/extension...\n",
      "      - Validating: ok\n"
     ]
    }
   ],
   "source": [
    "!pip install -U -q --verbose --user ipywidgets\n",
    "!jupyter nbextension enable --py widgetsnbextension"
   ]
  },
  {
   "cell_type": "code",
   "execution_count": 10,
   "id": "69266961",
   "metadata": {},
   "outputs": [
    {
     "data": {
      "text/html": [
       "<div>\n",
       "<style scoped>\n",
       "    .dataframe tbody tr th:only-of-type {\n",
       "        vertical-align: middle;\n",
       "    }\n",
       "\n",
       "    .dataframe tbody tr th {\n",
       "        vertical-align: top;\n",
       "    }\n",
       "\n",
       "    .dataframe thead th {\n",
       "        text-align: right;\n",
       "    }\n",
       "</style>\n",
       "<table border=\"1\" class=\"dataframe\">\n",
       "  <thead>\n",
       "    <tr style=\"text-align: right;\">\n",
       "      <th></th>\n",
       "      <th>X1;X2;Teacher</th>\n",
       "    </tr>\n",
       "  </thead>\n",
       "  <tbody>\n",
       "    <tr>\n",
       "      <th>0</th>\n",
       "      <td>0;0;0</td>\n",
       "    </tr>\n",
       "    <tr>\n",
       "      <th>1</th>\n",
       "      <td>0;1;0</td>\n",
       "    </tr>\n",
       "    <tr>\n",
       "      <th>2</th>\n",
       "      <td>1;0;0</td>\n",
       "    </tr>\n",
       "    <tr>\n",
       "      <th>3</th>\n",
       "      <td>1;1;1</td>\n",
       "    </tr>\n",
       "  </tbody>\n",
       "</table>\n",
       "</div>"
      ],
      "text/plain": [
       "  X1;X2;Teacher\n",
       "0         0;0;0\n",
       "1         0;1;0\n",
       "2         1;0;0\n",
       "3         1;1;1"
      ]
     },
     "execution_count": 10,
     "metadata": {},
     "output_type": "execute_result"
    }
   ],
   "source": [
    "df = pd.read_csv('AND-DATA.csv')\n",
    "df.head()"
   ]
  },
  {
   "cell_type": "code",
   "execution_count": 11,
   "id": "5be7cf8a",
   "metadata": {},
   "outputs": [
    {
     "name": "stdout",
     "output_type": "stream",
     "text": [
      "  X1;X2;Teacher\n",
      "0         0;0;0\n",
      "1         0;1;0\n",
      "2         1;0;0\n",
      "3         1;1;1\n"
     ]
    }
   ],
   "source": [
    "print(df)"
   ]
  },
  {
   "cell_type": "code",
   "execution_count": 12,
   "id": "cf814b69",
   "metadata": {},
   "outputs": [
    {
     "data": {
      "application/vnd.jupyter.widget-view+json": {
       "model_id": "19ea2869c3e34d5eaf174be2d9edf022",
       "version_major": 2,
       "version_minor": 0
      },
      "text/plain": [
       "Valid(value=False, description='Valid!')"
      ]
     },
     "metadata": {},
     "output_type": "display_data"
    }
   ],
   "source": [
    "widgets.Valid(\n",
    "    value=False,\n",
    "    description='Valid!',\n",
    ")"
   ]
  },
  {
   "cell_type": "code",
   "execution_count": 13,
   "id": "cbc492ce",
   "metadata": {},
   "outputs": [
    {
     "data": {
      "application/vnd.jupyter.widget-view+json": {
       "model_id": "45da225509e04c54b1f478072ef18595",
       "version_major": 2,
       "version_minor": 0
      },
      "text/plain": [
       "Dropdown(description='Number:', options=('0', '1'), value='0')"
      ]
     },
     "metadata": {},
     "output_type": "display_data"
    }
   ],
   "source": [
    "widgets.Dropdown(\n",
    "    options=['0', '1'],\n",
    "    value='0',\n",
    "    description='Number:',\n",
    "    disabled=False,\n",
    ")"
   ]
  },
  {
   "cell_type": "code",
   "execution_count": 23,
   "id": "072e62d3",
   "metadata": {},
   "outputs": [
    {
     "data": {
      "application/vnd.jupyter.widget-view+json": {
       "model_id": "4e27822757054dd7be006087a4e07dae",
       "version_major": 2,
       "version_minor": 0
      },
      "text/plain": [
       "IntSlider(value=7, continuous_update=False, description='Test:', max=10)"
      ]
     },
     "metadata": {},
     "output_type": "display_data"
    }
   ],
   "source": [
    "widgets.IntSlider(\n",
    "    value=7,\n",
    "    min=0,\n",
    "    max=10,\n",
    "    step=1,\n",
    "    description='Test:',\n",
    "    disabled=False,\n",
    "    continuous_update=False,\n",
    "    orientation='horizontal',\n",
    "    readout=True,\n",
    "    readout_format='d'\n",
    ")"
   ]
  },
  {
   "cell_type": "code",
   "execution_count": 25,
   "id": "60cfeedd",
   "metadata": {},
   "outputs": [],
   "source": [
    "# needed packages\n",
    "import pandas as pd\n",
    "import numpy as np\n",
    "from ipywidgets import widgets\n"
   ]
  },
  {
   "cell_type": "code",
   "execution_count": 27,
   "id": "e710351a",
   "metadata": {},
   "outputs": [
    {
     "data": {
      "text/plain": [
       "[FloatSlider(value=0.0, description='seed[0]', max=1.0, min=-1.0, step=0.01),\n",
       " FloatSlider(value=0.0, description='seed[1]', max=1.0, min=-1.0, step=0.01),\n",
       " FloatSlider(value=0.0, description='seed[2]', max=1.0, min=-1.0, step=0.01),\n",
       " FloatSlider(value=0.0, description='seed[3]', max=1.0, min=-1.0, step=0.01),\n",
       " FloatSlider(value=0.0, description='seed[4]', max=1.0, min=-1.0, step=0.01),\n",
       " FloatSlider(value=0.0, description='seed[5]', max=1.0, min=-1.0, step=0.01),\n",
       " FloatSlider(value=0.0, description='seed[6]', max=1.0, min=-1.0, step=0.01),\n",
       " FloatSlider(value=0.0, description='seed[7]', max=1.0, min=-1.0, step=0.01),\n",
       " FloatSlider(value=0.0, description='seed[8]', max=1.0, min=-1.0, step=0.01),\n",
       " FloatSlider(value=0.0, description='seed[9]', max=1.0, min=-1.0, step=0.01)]"
      ]
     },
     "execution_count": 27,
     "metadata": {},
     "output_type": "execute_result"
    }
   ],
   "source": [
    "\n",
    "n = 10\n",
    "seed = np.zeros(n)\n",
    "sliders = list(widgets.FloatSlider(\n",
    "              description = 'seed[{}]'.format(i),\n",
    "              min = -1.0, \n",
    "              max = 1.0, \n",
    "              step = 0.01, \n",
    "              value = seed[i]) \n",
    "          for i in range(n))\n",
    "\n",
    "sliders"
   ]
  },
  {
   "cell_type": "code",
   "execution_count": 17,
   "id": "c23933f2",
   "metadata": {},
   "outputs": [
    {
     "ename": "NameError",
     "evalue": "name 'data' is not defined",
     "output_type": "error",
     "traceback": [
      "\u001b[1;31m---------------------------------------------------------------------------\u001b[0m",
      "\u001b[1;31mNameError\u001b[0m                                 Traceback (most recent call last)",
      "\u001b[1;32m<ipython-input-17-82fe8a0a74d9>\u001b[0m in \u001b[0;36m<module>\u001b[1;34m\u001b[0m\n\u001b[1;32m----> 1\u001b[1;33m \u001b[0mdf\u001b[0m \u001b[1;33m=\u001b[0m \u001b[0mpd\u001b[0m\u001b[1;33m.\u001b[0m\u001b[0mDataFrame\u001b[0m\u001b[1;33m(\u001b[0m\u001b[0mdata\u001b[0m\u001b[1;33m*\u001b[0m\u001b[0mnp\u001b[0m\u001b[1;33m.\u001b[0m\u001b[0marray\u001b[0m\u001b[1;33m(\u001b[0m\u001b[1;33m[\u001b[0m\u001b[1;33m[\u001b[0m\u001b[1;36m1\u001b[0m\u001b[1;33m,\u001b[0m\u001b[1;36m2\u001b[0m\u001b[1;33m,\u001b[0m\u001b[1;36m3\u001b[0m\u001b[1;33m]\u001b[0m\u001b[1;33m]\u001b[0m\u001b[1;33m)\u001b[0m\u001b[1;33m)\u001b[0m\u001b[1;33m\u001b[0m\u001b[1;33m\u001b[0m\u001b[0m\n\u001b[0m",
      "\u001b[1;31mNameError\u001b[0m: name 'data' is not defined"
     ]
    }
   ],
   "source": [
    "df = pd.DataFrame(data*np.array([[1,2,3]]))"
   ]
  },
  {
   "cell_type": "code",
   "execution_count": 21,
   "id": "b028ab25",
   "metadata": {},
   "outputs": [
    {
     "data": {
      "text/html": [
       "<div>\n",
       "<style scoped>\n",
       "    .dataframe tbody tr th:only-of-type {\n",
       "        vertical-align: middle;\n",
       "    }\n",
       "\n",
       "    .dataframe tbody tr th {\n",
       "        vertical-align: top;\n",
       "    }\n",
       "\n",
       "    .dataframe thead th {\n",
       "        text-align: right;\n",
       "    }\n",
       "</style>\n",
       "<table border=\"1\" class=\"dataframe\">\n",
       "  <thead>\n",
       "    <tr style=\"text-align: right;\">\n",
       "      <th></th>\n",
       "      <th>x1</th>\n",
       "      <th>x2</th>\n",
       "      <th>teacher</th>\n",
       "    </tr>\n",
       "  </thead>\n",
       "  <tbody>\n",
       "    <tr>\n",
       "      <th>0</th>\n",
       "      <td>0</td>\n",
       "      <td>0</td>\n",
       "      <td>0</td>\n",
       "    </tr>\n",
       "    <tr>\n",
       "      <th>1</th>\n",
       "      <td>0</td>\n",
       "      <td>1</td>\n",
       "      <td>0</td>\n",
       "    </tr>\n",
       "    <tr>\n",
       "      <th>2</th>\n",
       "      <td>1</td>\n",
       "      <td>0</td>\n",
       "      <td>0</td>\n",
       "    </tr>\n",
       "    <tr>\n",
       "      <th>3</th>\n",
       "      <td>1</td>\n",
       "      <td>1</td>\n",
       "      <td>1</td>\n",
       "    </tr>\n",
       "  </tbody>\n",
       "</table>\n",
       "</div>"
      ],
      "text/plain": [
       "   x1  x2  teacher\n",
       "0   0   0        0\n",
       "1   0   1        0\n",
       "2   1   0        0\n",
       "3   1   1        1"
      ]
     },
     "execution_count": 21,
     "metadata": {},
     "output_type": "execute_result"
    }
   ],
   "source": [
    "    df = pd.DataFrame([[0, 0, 0], [0, 1, 0],[1, 0, 0],[1, 1, 1]], columns=['x1', 'x2','teacher'])\n",
    "    df"
   ]
  },
  {
   "cell_type": "code",
   "execution_count": null,
   "id": "5768ab26",
   "metadata": {},
   "outputs": [],
   "source": []
  }
 ],
 "metadata": {
  "kernelspec": {
   "display_name": "Python 3",
   "language": "python",
   "name": "python3"
  },
  "language_info": {
   "codemirror_mode": {
    "name": "ipython",
    "version": 3
   },
   "file_extension": ".py",
   "mimetype": "text/x-python",
   "name": "python",
   "nbconvert_exporter": "python",
   "pygments_lexer": "ipython3",
   "version": "3.8.8"
  }
 },
 "nbformat": 4,
 "nbformat_minor": 5
}
