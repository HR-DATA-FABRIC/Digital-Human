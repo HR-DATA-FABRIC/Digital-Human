{
 "cells": [
  {
   "cell_type": "code",
   "execution_count": 1,
   "id": "712479da-bfaa-4e8d-a958-3248bb38b781",
   "metadata": {},
   "outputs": [
    {
     "name": "stdout",
     "output_type": "stream",
     "text": [
      "The original string is :  Geekforgeeks is Best for geeks\n",
      "Word Ranges are : [(1, 12), (14, 15), (17, 20), (22, 24), (26, 30)]\n"
     ]
    }
   ],
   "source": [
    "### ====. https://www.geeksforgeeks.org/python-program-to-find-start-and-end-indices-of-all-words-in-a-string/\n",
    "\n",
    "# Python3 code to demonstrate working of\n",
    "# Word Ranges in String\n",
    "# Using list comprehension + regex + finditer()\n",
    "import re\n",
    "\n",
    "# initializing string\n",
    "test_str = ' Geekforgeeks is Best for geeks'\n",
    "\n",
    "# printing original string\n",
    "print(\"The original string is : \" + str(test_str))\n",
    "\n",
    "# regex to get words, loop to get each start and end index\n",
    "res = [(ele.start(), ele.end() - 1) for ele in re.finditer(r'\\S+', test_str)]\n",
    "\n",
    "# printing result\n",
    "print(\"Word Ranges are : \" + str(res))\n"
   ]
  },
  {
   "cell_type": "code",
   "execution_count": 5,
   "id": "dd70816f-3a96-4085-a2ff-ff7d1b215249",
   "metadata": {},
   "outputs": [
    {
     "data": {
      "text/plain": [
       "[(0, 11), (13, 14), (16, 19), (21, 23), (25, 30)]"
      ]
     },
     "execution_count": 5,
     "metadata": {},
     "output_type": "execute_result"
    }
   ],
   "source": [
    "text = 'Geekforgeeks is Best for geeks.'\n",
    "[(ele.start(), ele.end() - 1) for ele in re.finditer(r'\\S+', text)]"
   ]
  },
  {
   "cell_type": "code",
   "execution_count": null,
   "id": "0964ca2d-5535-4d0e-81c7-265ba7a6cb8e",
   "metadata": {},
   "outputs": [],
   "source": []
  }
 ],
 "metadata": {
  "kernelspec": {
   "display_name": "Python 3 (ipykernel)",
   "language": "python",
   "name": "python3"
  },
  "language_info": {
   "codemirror_mode": {
    "name": "ipython",
    "version": 3
   },
   "file_extension": ".py",
   "mimetype": "text/x-python",
   "name": "python",
   "nbconvert_exporter": "python",
   "pygments_lexer": "ipython3",
   "version": "3.10.6"
  }
 },
 "nbformat": 4,
 "nbformat_minor": 5
}
