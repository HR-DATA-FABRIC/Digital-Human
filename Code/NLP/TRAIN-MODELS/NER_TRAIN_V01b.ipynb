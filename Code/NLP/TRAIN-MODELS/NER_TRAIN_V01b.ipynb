{
 "cells": [
  {
   "cell_type": "markdown",
   "id": "c430a6ac-b473-406b-903c-ea2596a5d068",
   "metadata": {},
   "source": [
    "# Training Custom NER models in SpaCy to auto-detect named entities [Complete Guide]\n",
    "\n",
    "https://www.machinelearningplus.com/nlp/training-custom-ner-model-in-spacy/\n"
   ]
  },
  {
   "cell_type": "code",
   "execution_count": 33,
   "id": "aa3e308e-9a9f-4636-99b8-4f92e95ac316",
   "metadata": {},
   "outputs": [],
   "source": [
    "import spacy\n",
    "nlp=spacy.load('en_core_web_sm')\n",
    "spacy.require_gpu()\n",
    "\n",
    "# Getting the pipeline component\n",
    "ner=nlp.get_pipe(\"ner\")"
   ]
  },
  {
   "cell_type": "code",
   "execution_count": 34,
   "id": "c9afcf6c-be13-4f44-93c1-c66a453fbf06",
   "metadata": {},
   "outputs": [
    {
     "name": "stdout",
     "output_type": "stream",
     "text": [
      "India GPE\n",
      "one CARDINAL\n",
      "Indian NORP\n",
      "2021 DATE\n",
      "2017 DATE\n",
      "India GPE\n",
      "Philip PERSON\n",
      "12% PERCENT\n",
      "2017 DATE\n",
      "22-25% PERCENT\n",
      "2021 DATE\n",
      "India GPE\n",
      "Amazon ORG\n",
      "One CARDINAL\n",
      "Amazon ORG\n",
      "Amazon Prime GPE\n",
      "Amazon Music Limited ORG\n",
      "2007 DATE\n",
      "Flipkart ORG\n",
      "Indian NORP\n",
      "Amazon ORG\n",
      "Walmart ORG\n",
      "one CARDINAL\n",
      "US GPE\n",
      "Amazon ORG\n",
      "2010 DATE\n",
      "2011 DATE\n",
      "more than 3 CARDINAL\n",
      "India GPE\n",
      "over 30 million CARDINAL\n",
      "125,000 CARDINAL\n",
      "Indian NORP\n",
      "recent years DATE\n",
      "Freecharge PRODUCT\n",
      "Unicommerce ORG\n",
      "Indian NORP\n",
      "ShopClues ORG\n",
      "July 2011 DATE\n",
      "Gurugram ORG\n",
      "INR 1.1 billion MONEY\n",
      "Nexus Venture Partners ORG\n",
      "Tiger Global PERSON\n",
      "Helion Ventures ORG\n",
      "more than 5 CARDINAL\n",
      "nine CARDINAL\n",
      "Paytm Mall PERSON\n",
      "Paytm PERSON\n",
      "Paytm Mall PERSON\n",
      "third ORDINAL\n",
      "Reliance Jio’s PERSON\n",
      "Indian NORP\n",
      "Reliance ORG\n",
      "Reliance ORG\n",
      "India GPE\n",
      "two CARDINAL\n",
      "One CARDINAL\n",
      "Grofers ORG\n",
      "2013 DATE\n",
      "the last 5 years DATE\n",
      "atta ORG\n",
      "daily DATE\n",
      "India GPE\n",
      "Indian NORP\n",
      "2020 DATE\n",
      "Digital Mall of Asia ORG\n",
      "Yokeasia Malls PERSON\n",
      "zero CARDINAL\n",
      "monthly DATE\n",
      "one CARDINAL\n",
      "DMA ORG\n"
     ]
    }
   ],
   "source": [
    "# 2] Need for Custom NER\n",
    "# Performing NER on E-commerce article\n",
    "\n",
    "article_text=\"\"\"India that previously comprised only a handful of players in the e-commerce space, is now home to many biggies and giants battling out with each other to reach the top. This is thanks to the overwhelming internet and smartphone penetration coupled with the ever-increasing digital adoption across the country. These new-age innovations not only gave emerging startups a unique platform to deliver seamless shopping experiences but also provided brick and mortar stores with a level-playing field to begin their online journeys without leaving their offline legacies.\n",
    "In the wake of so many players coming together on one platform, the Indian e-commerce market is envisioned to reach USD 84 billion in 2021 from USD 24 billion in 2017. Further, with the rate at which internet penetration is increasing, we can expect more and more international retailers coming to India in addition to a large pool of new startups. This, in turn, will provide a major Philip to the organized retail market and boost its share from 12% in 2017 to 22-25% by 2021. \n",
    "Here’s a view to the e-commerce giants that are dominating India’s online shopping space:\n",
    "Amazon – One of the uncontested global leaders, Amazon started its journey as a simple online bookstore that gradually expanded its reach to provide a large suite of diversified products including media, furniture, food, and electronics, among others. And now with the launch of Amazon Prime and Amazon Music Limited, it has taken customer experience to a godly level, which will remain undefeatable for a very long time. \n",
    "\n",
    "Flipkart – Founded in 2007, Flipkart is recognized as the national leader in the Indian e-commerce market. Just like Amazon, it started operating by selling books and then entered other categories such as electronics, fashion, and lifestyle, mobile phones, etc. And now that it has been acquired by Walmart, one of the largest leading platforms of e-commerce in the US, it has also raised its bar of customer offerings in all aspects and giving huge competition to Amazon. \n",
    "\n",
    "Snapdeal – Started as a daily deals platform in 2010, Snapdeal became a full-fledged online marketplace in 2011 comprising more than 3 lac sellers across India. The platform offers over 30 million products across 800+ diverse categories from over 125,000 regional, national, and international brands and retailers. The Indian e-commerce firm follows a robust strategy to stay at the forefront of innovation and deliver seamless customer offerings to its wide customer base. It has shown great potential for recovery in recent years despite losing Freecharge and Unicommerce. \n",
    "\n",
    "ShopClues – Another renowned name in the Indian e-commerce industry, ShopClues was founded in July 2011. It’s a Gurugram based company having a current valuation of INR 1.1 billion and is backed by prominent names including Nexus Venture Partners, Tiger Global, and Helion Ventures as its major investors. Presently, the platform comprises more than 5 lac sellers selling products in nine different categories such as computers, cameras, mobiles, etc. \n",
    "\n",
    "Paytm Mall – To compete with the existing e-commerce giants, Paytm, an online payment system has also launched its online marketplace – Paytm Mall, which offers a wide array of products ranging from men and women fashion to groceries and cosmetics, electronics and home products, and many more. The unique thing about this platform is that it serves as a medium for third parties to sell their products directly through the widely-known app – Paytm. \n",
    "\n",
    "Reliance Retail – Given Reliance Jio’s disruptive venture in the Indian telecom space along with a solid market presence of Reliance, it is no wonder that Reliance will soon be foraying into retail space. As of now, it has plans to build an e-commerce space that will be established on online-to-offline market program and aim to bring local merchants on board to help them boost their sales and compete with the existing industry leaders. \n",
    "Big Basket – India’s biggest online supermarket, Big Basket provides a wide variety of imported and gourmet products through two types of delivery services – express delivery and slotted delivery. It also offers pre-cut fruits along with a long list of beverages including fresh juices, cold drinks, hot teas, etc. Moreover, it not only provides farm-fresh products but also ensures that the farmer gets better prices. \n",
    "\n",
    "Grofers – One of the leading e-commerce players in the grocery segment, Grofers started its operations in 2013 and has reached overwhelming heights in the last 5 years. Its wide range of products includes atta, milk, oil, daily need products, vegetables, dairy products, juices, beverages, among others. With its growing reach across India, it has become one of the favorite supermarkets for Indian consumers who want to shop grocery items from the comforts of their homes. \n",
    "\n",
    "Digital Mall of Asia – Going live in 2020, Digital Mall of Asia is a very unique concept coined by the founders of Yokeasia Malls. It is designed to provide an immersive digital space equipped with multiple visual and sensory elements to sellers and shoppers. It will also give retailers exclusive rights to sell a particular product category or brand in their respective cities. What makes it unique is its zero-commission model enabling retailers to pay only a fixed amount of monthly rental instead of paying commissions. With its one-of-a-kind features, DMA is expected to bring\n",
    "never-seen transformation to the current e-commerce ecosystem while addressing all the existing e-commerce worries such as counterfeiting. \"\"\"\n",
    "\n",
    "doc=nlp(article_text)\n",
    "for ent in doc.ents:\n",
    "  print(ent.text,ent.label_)\n",
    "\n"
   ]
  },
  {
   "cell_type": "code",
   "execution_count": 35,
   "id": "26156ce0-f16d-404e-9964-e2d61f5c0de3",
   "metadata": {},
   "outputs": [],
   "source": [
    "# 3] Updating the Named Entity Recognizer# Load pre-existing spacy model\n",
    "import spacy\n",
    "nlp=spacy.load('en_core_web_sm')\n",
    "spacy.require_gpu()\n",
    "\n",
    "# Getting the pipeline component\n",
    "ner=nlp.get_pipe(\"ner\")"
   ]
  },
  {
   "cell_type": "code",
   "execution_count": 36,
   "id": "d2f5bb3c-e066-448b-91fb-b210081b8d21",
   "metadata": {},
   "outputs": [
    {
     "name": "stdout",
     "output_type": "stream",
     "text": [
      "(0, 7, 'ORG')\n",
      "(18, 28, 'GPE')\n",
      "(31, 38, 'ORG')\n",
      "(16, 20, 'PRODUCT')\n",
      "(20, 30, 'ORG')\n",
      "(0, 6, 'PRODUCT')\n",
      "(15, 21, 'PRODUCT')\n",
      "(15, 20, 'PRODUCT')\n",
      "(17, 23, 'PRODUCT')\n",
      "(11, 18, 'PRODUCT')\n",
      "(11, 15, 'PRODUCT')\n",
      "(11, 22, 'PRODUCT')\n",
      "(14, 23, 'PRODUCT')\n",
      "(9, 14, 'PRODUCT')\n",
      "(9, 14, 'PRODUCT')\n",
      "(0, 8, 'ORG')\n",
      "(24, 28, 'ORG')\n",
      "(0, 8, 'ORG')\n",
      "(24, 31, 'ORG')\n"
     ]
    }
   ],
   "source": [
    "# 4] Format of the training examples\n",
    "# training data\n",
    "### ====> see als https://spacy.io/api/top-level#offsets_to_biluo_tags\n",
    "### ====> https://ner.pythonhumanities.com/03_02_train_spacy_ner_model.html\n",
    "\n",
    "TRAIN_DATA = [\n",
    "              (\"Walmart is a leading e-commerce company.\", {\"entities\": [(0, 7, \"ORG\")]}),\n",
    "              (\"I reached Chennai yesterday.\", {\"entities\": [(18, 28, \"GPE\")]}),\n",
    "              (\"I recently ordered a book from Amazon.\", {\"entities\": [(31,38, \"ORG\")]}),\n",
    "              (\"I was driving a BMW.\", {\"entities\": [(16,20, \"PRODUCT\")]}),\n",
    "              (\"I ordered this from ShopClues.\", {\"entities\": [(20,30, \"ORG\")]}),\n",
    "              (\"Fridge can be ordered in Amazon.\", {\"entities\": [(0,6, \"PRODUCT\")]}),\n",
    "              (\"I bought a new Washer.\", {\"entities\": [(15,21, \"PRODUCT\")]}),\n",
    "              (\"I bought a old table.\", {\"entities\": [(15,20, \"PRODUCT\")]}),\n",
    "              (\"I bought a fancy dress.\", {\"entities\": [(17,23, \"PRODUCT\")]}),\n",
    "              (\"I rented a camera.\", {\"entities\": [(11,18, \"PRODUCT\")]}),\n",
    "              (\"I rented a tent for our trip.\", {\"entities\": [(11,15, \"PRODUCT\")]}),\n",
    "              (\"I rented a screwdriver from our neighbour.\", {\"entities\": [(11,22, \"PRODUCT\")]}),\n",
    "              (\"I repaired my computer.\", {\"entities\": [(14,23, \"PRODUCT\")]}),\n",
    "              (\"I got my clock fixed.\", {\"entities\": [(9,14, \"PRODUCT\")]}),\n",
    "              (\"I got my truck fixed.\", {\"entities\": [(9,14, \"PRODUCT\")]}),\n",
    "              (\"Flipkart started it's journey from zero.\", {\"entities\": [(0,8, \"ORG\")]}),\n",
    "              (\"I recently ordered from Max.\", {\"entities\": [(24,28, \"ORG\")]}),\n",
    "              (\"Flipkart is recognized as leader in market.\",{\"entities\": [(0,8, \"ORG\")]}),\n",
    "              (\"I recently ordered from Swiggy.\", {\"entities\": [(24,31, \"ORG\")]})\n",
    "              ]\n",
    "\n",
    "\n",
    "# Adding labels to the `ner`\n",
    "for _, annotations in TRAIN_DATA:\n",
    "  for ent in annotations.get(\"entities\"):\n",
    "    ner.add_label(ent[2])\n",
    "    print(ent)\n",
    "\n",
    "    "
   ]
  },
  {
   "cell_type": "code",
   "execution_count": 37,
   "id": "a841d6ad-1859-4f83-ad73-1372926e7f2f",
   "metadata": {},
   "outputs": [
    {
     "name": "stdout",
     "output_type": "stream",
     "text": [
      "Walmart is a leading e-commerce company.\n",
      "(0, 7, 'ORG')\n",
      "I reached Chennai yesterday.\n",
      "(18, 28, 'GPE')\n",
      "I recently ordered a book from Amazon.\n",
      "(31, 38, 'ORG')\n",
      "I was driving a BMW.\n",
      "(16, 20, 'PRODUCT')\n",
      "I ordered this from ShopClues.\n",
      "(20, 30, 'ORG')\n",
      "Fridge can be ordered in Amazon.\n",
      "(0, 6, 'PRODUCT')\n",
      "I bought a new Washer.\n",
      "(15, 21, 'PRODUCT')\n",
      "I bought a old table.\n",
      "(15, 20, 'PRODUCT')\n",
      "I bought a fancy dress.\n",
      "(17, 23, 'PRODUCT')\n",
      "I rented a camera.\n",
      "(11, 18, 'PRODUCT')\n",
      "I rented a tent for our trip.\n",
      "(11, 15, 'PRODUCT')\n",
      "I rented a screwdriver from our neighbour.\n",
      "(11, 22, 'PRODUCT')\n",
      "I repaired my computer.\n",
      "(14, 23, 'PRODUCT')\n",
      "I got my clock fixed.\n",
      "(9, 14, 'PRODUCT')\n",
      "I got my truck fixed.\n",
      "(9, 14, 'PRODUCT')\n",
      "Flipkart started it's journey from zero.\n",
      "(0, 8, 'ORG')\n",
      "I recently ordered from Max.\n",
      "(24, 28, 'ORG')\n",
      "Flipkart is recognized as leader in market.\n",
      "(0, 8, 'ORG')\n",
      "I recently ordered from Swiggy.\n",
      "(24, 31, 'ORG')\n"
     ]
    }
   ],
   "source": [
    "from spacy.training import offsets_to_biluo_tags  \n",
    "\n",
    "for text, annotations in TRAIN_DATA:\n",
    "    text = nlp.make_doc(text)\n",
    "    print(text)\n",
    "    for ent in annotations.get(\"entities\"):\n",
    "        print(ent)"
   ]
  },
  {
   "cell_type": "code",
   "execution_count": 38,
   "id": "228d673e-aad6-4d47-a365-5f416c9bb6c4",
   "metadata": {},
   "outputs": [
    {
     "name": "stdout",
     "output_type": "stream",
     "text": [
      "['O', 'O', 'O', 'O', 'B-ORG', 'L-ORG']\n"
     ]
    }
   ],
   "source": [
    "tags = spacy.training.offsets_to_biluo_tags(text, [ent])\n",
    "print(tags)\n",
    "#assert tags == [\"O\", \"O\", \"U-LOC\", \"O\"]"
   ]
  },
  {
   "cell_type": "code",
   "execution_count": 39,
   "id": "4c35d1c2-fe8a-4b0b-9dde-e3bb8747467a",
   "metadata": {},
   "outputs": [
    {
     "name": "stdout",
     "output_type": "stream",
     "text": [
      "I recently ordered from Swiggy. ['O', 'O', 'O', 'O', 'B-ORG', 'L-ORG'] (24, 31, 'ORG')\n"
     ]
    }
   ],
   "source": [
    "tags = offsets_to_biluo_tags(text, [ent])\n",
    "#assert tags == [\"O\", \"O\", \"U-LOC\", \"O\"]\n",
    "print(text, tags, ent)"
   ]
  },
  {
   "cell_type": "code",
   "execution_count": 40,
   "id": "a4049a0f-e427-40f4-a706-80277d327354",
   "metadata": {},
   "outputs": [
    {
     "name": "stdout",
     "output_type": "stream",
     "text": [
      "['O', 'O', 'O', 'O', 'U-ORG']\n"
     ]
    }
   ],
   "source": [
    "## ADAPT NUMBERS TO CORRECT FOR MISALIGNMENT\n",
    "\n",
    "from spacy.training import offsets_to_biluo_tags\n",
    "\n",
    "doc = nlp(\"I recently ordered from Swiggy\")\n",
    "entities = [(24,30, \"ORG\")]\n",
    "tags = offsets_to_biluo_tags(doc, entities)\n",
    "print(tags)\n",
    "#assert tags == [\"O\", \"O\", \"O\", \"U-ORG\"]"
   ]
  },
  {
   "cell_type": "code",
   "execution_count": 41,
   "id": "22e8e62a-0e34-4d8e-b84a-7823150c6eb0",
   "metadata": {},
   "outputs": [],
   "source": [
    "#for text, annot in TRAIN_DATA:\n",
    "#    doc = nlp.make_doc(text)\n",
    "#print([token.text for token in doc])  # ['Hello', 'world', '!']\n",
    "#print(doc.text)  # 'Hello world!'"
   ]
  },
  {
   "cell_type": "code",
   "execution_count": 42,
   "id": "59efdaf0-487b-46e1-8534-97216adf58f8",
   "metadata": {},
   "outputs": [
    {
     "ename": "AttributeError",
     "evalue": "'English' object has no attribute 'parser'",
     "output_type": "error",
     "traceback": [
      "\u001b[1;31m---------------------------------------------------------------------------\u001b[0m",
      "\u001b[1;31mAttributeError\u001b[0m                            Traceback (most recent call last)",
      "Cell \u001b[1;32mIn [42], line 34\u001b[0m\n\u001b[0;32m     31\u001b[0m other_pipes \u001b[38;5;241m=\u001b[39m [pipe \u001b[38;5;28;01mfor\u001b[39;00m pipe \u001b[38;5;129;01min\u001b[39;00m nlp\u001b[38;5;241m.\u001b[39mpipe_names \u001b[38;5;28;01mif\u001b[39;00m pipe \u001b[38;5;241m!=\u001b[39m \u001b[38;5;124m'\u001b[39m\u001b[38;5;124mner\u001b[39m\u001b[38;5;124m'\u001b[39m]\n\u001b[0;32m     32\u001b[0m \u001b[38;5;28;01mwith\u001b[39;00m nlp\u001b[38;5;241m.\u001b[39mdisable_pipes(\u001b[38;5;241m*\u001b[39mother_pipes):\n\u001b[0;32m     33\u001b[0m     \u001b[38;5;66;03m#optimizer = nlp.begin_training()\u001b[39;00m\n\u001b[1;32m---> 34\u001b[0m     optimizer \u001b[38;5;241m=\u001b[39m \u001b[43mnlp\u001b[49m\u001b[38;5;241;43m.\u001b[39;49m\u001b[43mparser\u001b[49m\u001b[38;5;241m.\u001b[39mcreate_optimizer()\n\u001b[0;32m     35\u001b[0m     \u001b[38;5;28;01mfor\u001b[39;00m epoch \u001b[38;5;129;01min\u001b[39;00m \u001b[38;5;28mrange\u001b[39m(\u001b[38;5;241m30\u001b[39m):\n\u001b[0;32m     36\u001b[0m         random\u001b[38;5;241m.\u001b[39mshuffle(TRAIN_DATA)\n",
      "\u001b[1;31mAttributeError\u001b[0m: 'English' object has no attribute 'parser'"
     ]
    }
   ],
   "source": [
    "# =======================># 5] Training the NER model\n",
    "# Disable pipeline components you dont need to change\n",
    "pipe_exceptions = [\"ner\", \"trf_wordpiecer\", \"trf_tok2vec\"]\n",
    "unaffected_pipes = [pipe for pipe in nlp.pipe_names if pipe not in pipe_exceptions]\n",
    "\n",
    "# Import requirements\n",
    "import random\n",
    "from spacy.util import minibatch, compounding\n",
    "\n",
    "\n",
    "# TRAINING THE MODEL\n",
    "#from spacy.training import Example\n",
    "with nlp.disable_pipes(*unaffected_pipes):\n",
    "\n",
    "\n",
    "# =======================\n",
    "    nlp = spacy.blank('en')\n",
    "if 'ner' not in nlp.pipe_names:\n",
    "    ner = nlp.create_pipe('ner')\n",
    "    nlp.add_pipe('ner', last=True)\n",
    "else:\n",
    "    ner = nlp.get_pipe('ner')\n",
    "\n",
    "for _, annotations in TRAIN_DATA:\n",
    "    for label in annotations['entities']:\n",
    "        ner.add_label(label[2])\n",
    "\n",
    "# TRAINING THE MODEL\n",
    "from spacy.training import Example        \n",
    "        \n",
    "other_pipes = [pipe for pipe in nlp.pipe_names if pipe != 'ner']\n",
    "with nlp.disable_pipes(*other_pipes):\n",
    "    optimizer = nlp.begin_training()\n",
    "    ######## optimizer = nlp.parser.create_optimizer()\n",
    "    for epoch in range(30):\n",
    "        random.shuffle(TRAIN_DATA)\n",
    "        losses = {}\n",
    "        print(f'Epoch {epoch+1} of {30}:')\n",
    "        for text, annotations in TRAIN_DATA:\n",
    "            doc = nlp.make_doc(text)\n",
    "            example = Example.from_dict(doc, annotations)\n",
    "            nlp.update([example], drop=0.5, sgd=optimizer, losses=losses) #SGD\n",
    "        print(losses) #Print losses after each epoch"
   ]
  },
  {
   "cell_type": "code",
   "execution_count": 12,
   "id": "86b792d5-d136-4b22-9ad6-0fbcd1b72dfb",
   "metadata": {},
   "outputs": [
    {
     "name": "stdout",
     "output_type": "stream",
     "text": [
      "Entities [('Alto', 'PRODUCT')]\n"
     ]
    }
   ],
   "source": [
    "# Testing the model\n",
    "doc = nlp(\"I was driving a Alto\")\n",
    "print(\"Entities\", [(ent.text, ent.label_) for ent in doc.ents])\n",
    "\n",
    "# ================================================================="
   ]
  },
  {
   "cell_type": "code",
   "execution_count": 20,
   "id": "82cfa53f-37c4-40c6-bd7c-43a4b3043a86",
   "metadata": {},
   "outputs": [
    {
     "name": "stdout",
     "output_type": "stream",
     "text": [
      "Entities [('Flipkards', 'PRODUCT')]\n"
     ]
    }
   ],
   "source": [
    "# Testing the model\n",
    "doc = nlp(\"I do not know wether Flipkards are expensive\")\n",
    "print(\"Entities\", [(ent.text, ent.label_) for ent in doc.ents])\n",
    "\n",
    "# ================================================================="
   ]
  },
  {
   "cell_type": "code",
   "execution_count": null,
   "id": "21a8450e-f65f-4443-93ef-90355dc0c279",
   "metadata": {},
   "outputs": [],
   "source": []
  }
 ],
 "metadata": {
  "kernelspec": {
   "display_name": "Python 3 (ipykernel)",
   "language": "python",
   "name": "python3"
  },
  "language_info": {
   "codemirror_mode": {
    "name": "ipython",
    "version": 3
   },
   "file_extension": ".py",
   "mimetype": "text/x-python",
   "name": "python",
   "nbconvert_exporter": "python",
   "pygments_lexer": "ipython3",
   "version": "3.10.6"
  }
 },
 "nbformat": 4,
 "nbformat_minor": 5
}
