{
 "cells": [
  {
   "cell_type": "code",
   "execution_count": 4,
   "id": "a1d0f226-61d4-444a-bf69-975c106cd1e0",
   "metadata": {},
   "outputs": [
    {
     "name": "stdout",
     "output_type": "stream",
     "text": [
      "Length 115\n",
      "THIS IS UPPERCASE TEXT :PART 1 - PARAGRAPHLorem ipsum:1.1First phrase «test».1.2Second phrase «test» end of phrase.\n",
      "____________\n",
      "Length 19\n",
      "Mapper is very low.\n",
      "____________\n"
     ]
    }
   ],
   "source": [
    "import spacy\n",
    "from spacy.language import Language\n",
    "import re\n",
    "\n",
    "nlp = spacy.load('en_core_web_sm')\n",
    "boundary = re.compile('^[0-9]$')\n",
    "\n",
    "@Language.component('custom_seg')\n",
    "\n",
    "def custom_seg(doc):\n",
    "    prev = doc[0].text\n",
    "    length = len(doc)\n",
    "    for index, token in enumerate(doc):\n",
    "        if (token.text == '.' and boundary.match(prev) and index!=(length - 1)):\n",
    "            doc[index+1].sent_start = False\n",
    "        prev = token.text\n",
    "    return doc\n",
    "\n",
    "nlp.add_pipe('custom_seg', before='parser')\n",
    "\n",
    "test = \"THIS IS UPPERCASE TEXT :PART 1 - PARAGRAPHLorem ipsum:1.1First phrase «test».1.2Second phrase «test» end of phrase. Mapper is very low.\"\n",
    "doc = nlp(test)\n",
    "\n",
    "for sentence in doc.sents:\n",
    "    print(\"Length \" + str(len(sentence.text))), print(sentence.text), print('____________')"
   ]
  },
  {
   "cell_type": "code",
   "execution_count": null,
   "id": "f1a0daa8-429f-4f47-948c-4e23c2b2fa05",
   "metadata": {},
   "outputs": [],
   "source": []
  }
 ],
 "metadata": {
  "kernelspec": {
   "display_name": "Python 3 (ipykernel)",
   "language": "python",
   "name": "python3"
  },
  "language_info": {
   "codemirror_mode": {
    "name": "ipython",
    "version": 3
   },
   "file_extension": ".py",
   "mimetype": "text/x-python",
   "name": "python",
   "nbconvert_exporter": "python",
   "pygments_lexer": "ipython3",
   "version": "3.10.6"
  }
 },
 "nbformat": 4,
 "nbformat_minor": 5
}
