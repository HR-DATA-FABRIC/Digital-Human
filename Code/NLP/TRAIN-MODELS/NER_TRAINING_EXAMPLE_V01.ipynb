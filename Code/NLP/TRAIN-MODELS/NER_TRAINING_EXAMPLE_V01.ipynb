{
 "cells": [
  {
   "cell_type": "code",
   "execution_count": 1,
   "id": "8e0f1512-72a8-46c9-81df-fa853fb4a356",
   "metadata": {},
   "outputs": [],
   "source": [
    "import json\n",
    "\n",
    "with open(\"data/corona.json\") as f:\n",
    "    data = json.loads(f.read())\n",
    "\n",
    "\n",
    "TRAIN_DATA = []\n",
    "\n",
    "for (text, annot) in data:\n",
    "    new_anno = []\n",
    "    for anno in annot[\"entities\"]:\n",
    "        st, end, label = anno\n",
    "        new_anno.append((st, end, label))\n",
    "    TRAIN_DATA.append((text, {\"entities\": new_anno}))\n",
    "\n",
    "\n",
    "labels = ['Pathogen', 'MedicalCondition', 'Medicine']"
   ]
  },
  {
   "cell_type": "code",
   "execution_count": 2,
   "id": "709a3c74-3030-4e4f-a04f-5f8103c2a47c",
   "metadata": {},
   "outputs": [
    {
     "data": {
      "text/plain": [
       "True"
      ]
     },
     "execution_count": 2,
     "metadata": {},
     "output_type": "execute_result"
    }
   ],
   "source": [
    "import random\n",
    "import spacy\n",
    "from spacy.training import Example\n",
    "spacy.prefer_gpu()"
   ]
  },
  {
   "cell_type": "code",
   "execution_count": 3,
   "id": "e6c15827-e182-409b-9618-80c032b38778",
   "metadata": {},
   "outputs": [
    {
     "name": "stdout",
     "output_type": "stream",
     "text": [
      "<spacy.pipeline.ner.EntityRecognizer object at 0x000002604D16F0B0>\n",
      "{'lang': 'en', 'name': 'pipeline', 'version': '0.0.0', 'spacy_version': '>=3.4.3,<3.5.0', 'description': '', 'author': '', 'email': '', 'url': '', 'license': '', 'spacy_git_version': '63673a792', 'vectors': {'width': 0, 'vectors': 0, 'keys': 0, 'name': None, 'mode': 'default'}, 'labels': {'ner': []}, 'pipeline': ['ner'], 'components': ['ner'], 'disabled': []}\n",
      "('MedicalCondition', 'Medicine', 'Pathogen')\n"
     ]
    }
   ],
   "source": [
    "nlp = spacy.blank(\"en\")\n",
    "ner = nlp.add_pipe(\"ner\") \n",
    "\n",
    "print(ner)\n",
    "print(nlp.meta)\n",
    "\n",
    "for ent in labels:\n",
    "   ner.add_label(ent)\n",
    "\n",
    "print(ner.labels)\n",
    "\n",
    "epochs = 25\n",
    "\n",
    "other_pipes = [pipe for pipe in nlp.pipe_names if pipe != 'ner']"
   ]
  },
  {
   "cell_type": "code",
   "execution_count": 4,
   "id": "f48f6ac9-a62b-4f3f-a995-6f74ddb53380",
   "metadata": {},
   "outputs": [
    {
     "name": "stderr",
     "output_type": "stream",
     "text": [
      "C:\\Users\\rob\\anaconda3\\envs\\spacy-GPU-env\\lib\\site-packages\\spacy\\training\\iob_utils.py:149: UserWarning: [W030] Some entities could not be aligned in the text \"Buprenorphine has been shown experimentally (1982â...\" with entities \"[(0, 13, 'Medicine'), (88, 109, 'MedicalCondition'...\". Use `spacy.training.offsets_to_biluo_tags(nlp.make_doc(text), entities)` to check the alignment. Misaligned entities ('-') will be ignored during training.\n",
      "  warnings.warn(\n",
      "C:\\Users\\rob\\anaconda3\\envs\\spacy-GPU-env\\lib\\site-packages\\spacy\\training\\iob_utils.py:149: UserWarning: [W030] Some entities could not be aligned in the text \"Bats are the most common source of rabies in human...\" with entities \"[(35, 41, 'MedicalCondition'), (162, 168, 'Medical...\". Use `spacy.training.offsets_to_biluo_tags(nlp.make_doc(text), entities)` to check the alignment. Misaligned entities ('-') will be ignored during training.\n",
      "  warnings.warn(\n",
      "C:\\Users\\rob\\anaconda3\\envs\\spacy-GPU-env\\lib\\site-packages\\spacy\\training\\iob_utils.py:149: UserWarning: [W030] Some entities could not be aligned in the text \"Hantaviruses, usually found in rodents and shrews,...\" with entities \"[(0, 12, 'Pathogen'), (394, 406, 'Pathogen'), (227...\". Use `spacy.training.offsets_to_biluo_tags(nlp.make_doc(text), entities)` to check the alignment. Misaligned entities ('-') will be ignored during training.\n",
      "  warnings.warn(\n"
     ]
    },
    {
     "name": "stdout",
     "output_type": "stream",
     "text": [
      "(tuberculosis, Mycobacterium tuberculosis)\n",
      "One of the bacterial diseases with the highest disease burden is tuberculosis, caused by Mycobacterium tuberculosis bacteria, which kills about 2 million people a year.\n"
     ]
    }
   ],
   "source": [
    "#spacy.require_gpu()\n",
    "spacy.prefer_gpu()\n",
    "with nlp.disable_pipes(*other_pipes):\n",
    "\n",
    "  optimizer = nlp.begin_training()\n",
    "\n",
    "  for i in range(100):\n",
    "    random.shuffle(TRAIN_DATA)\n",
    "    for text, annotation in TRAIN_DATA:\n",
    "        doc = nlp.make_doc(text)\n",
    "        example = Example.from_dict(doc, annotation)\n",
    "        nlp.update([example], sgd=optimizer)\n",
    "\n",
    "doc = nlp(\"One of the bacterial diseases with the highest disease burden is tuberculosis, caused by Mycobacterium tuberculosis bacteria, which kills about 2 million people a year.\")\n",
    "doc2 = nlp(\"Pathogenic bacteria contribute to other globally important diseases, such as pneumonia, which can be caused by bacteria such as Streptococcus and Pseudomonas, and foodborne illnesses, which can be caused by bacteria such as Shigella, Campylobacter, and Salmonella. Pathogenic bacteria also cause infections such as tetanus, typhoid fever, diphtheria, syphilis, and leprosy. Pathogenic bacteria are also the cause of high infant mortality rates in developing countries.\")\n",
    "\n",
    "print(doc.ents)\n",
    "print(doc)"
   ]
  },
  {
   "cell_type": "code",
   "execution_count": 6,
   "id": "93d6c3c8-a9ef-4426-af45-cfec7e35b8cd",
   "metadata": {},
   "outputs": [
    {
     "data": {
      "text/plain": [
       "True"
      ]
     },
     "execution_count": 6,
     "metadata": {},
     "output_type": "execute_result"
    }
   ],
   "source": [
    "spacy.require_cpu()"
   ]
  },
  {
   "cell_type": "code",
   "execution_count": null,
   "id": "6613c43e-e857-40c0-9c99-327bac0623b0",
   "metadata": {},
   "outputs": [],
   "source": []
  }
 ],
 "metadata": {
  "kernelspec": {
   "display_name": "Python 3 (ipykernel)",
   "language": "python",
   "name": "python3"
  },
  "language_info": {
   "codemirror_mode": {
    "name": "ipython",
    "version": 3
   },
   "file_extension": ".py",
   "mimetype": "text/x-python",
   "name": "python",
   "nbconvert_exporter": "python",
   "pygments_lexer": "ipython3",
   "version": "3.10.6"
  }
 },
 "nbformat": 4,
 "nbformat_minor": 5
}
