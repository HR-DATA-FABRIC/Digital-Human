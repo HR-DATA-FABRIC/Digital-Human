{
 "cells": [
  {
   "cell_type": "code",
   "execution_count": 1,
   "id": "36d5a8a8-5d6a-42ed-bb3f-5c58090b30fa",
   "metadata": {},
   "outputs": [
    {
     "name": "stdin",
     "output_type": "stream",
     "text": [
      "What color are apples?\n",
      "(a) Red/Green\n",
      "(b)Orange b\n",
      "What color are bananas?\n",
      "(a) Red/Green\n",
      "(b)Yellow b\n"
     ]
    },
    {
     "name": "stdout",
     "output_type": "stream",
     "text": [
      "you got 1 out of 2\n"
     ]
    }
   ],
   "source": [
    "class Question:\n",
    "     def __init__(self, prompt, answer):\n",
    "          self.prompt = prompt\n",
    "          self.answer = answer\n",
    "\n",
    "question_prompts = [\n",
    "     \"What color are apples?\\n(a) Red/Green\\n(b)Orange\",\n",
    "     \"What color are bananas?\\n(a) Red/Green\\n(b)Yellow\",\n",
    "]\n",
    "\n",
    "questions = [\n",
    "     Question(question_prompts[0], \"a\"),\n",
    "     Question(question_prompts[1], \"b\"),\n",
    "]\n",
    "\n",
    "def run_quiz(questions):\n",
    "     score = 0\n",
    "     for question in questions:\n",
    "          answer = input(question.prompt)\n",
    "          if answer == question.answer:\n",
    "               score += 1\n",
    "     print(\"you got\", score, \"out of\", len(questions))\n",
    "\n",
    "run_quiz(questions)"
   ]
  },
  {
   "cell_type": "code",
   "execution_count": null,
   "id": "229b25b7-27a9-4650-b8e2-acdc633244c7",
   "metadata": {},
   "outputs": [],
   "source": []
  },
  {
   "cell_type": "code",
   "execution_count": null,
   "id": "9340f625-ad37-49bc-88ba-5aa427b38f3c",
   "metadata": {},
   "outputs": [],
   "source": []
  },
  {
   "cell_type": "code",
   "execution_count": null,
   "id": "9ce139e8-e6cb-4c79-b3d1-2cfda479c9f3",
   "metadata": {},
   "outputs": [
    {
     "name": "stdout",
     "output_type": "stream",
     "text": [
      " ~~~~~~ WELCOME TO QUIZ ~~~~~\n",
      "\n",
      " ### RULES OF THE GAME ###\n",
      " 1. Choose one of the correct option from each question (a/b/c/d)\n",
      " 2. h for help\n",
      " 3. q to quit\n",
      "\n",
      " ### BEST OF LUCK ###\n",
      "\n",
      "\n",
      " 1) The International team of scientists has recently cracked the genetic code of which cultivated crop for the first time?\n",
      " <a> Wheat\n",
      " <b> Rice\n",
      " <c> Maize\n",
      " <d> Pulses\n"
     ]
    },
    {
     "name": "stdin",
     "output_type": "stream",
     "text": [
      "\n",
      " Enter the option (a/b/c/d) or h for helpline or q to quit:  a\n"
     ]
    },
    {
     "name": "stdout",
     "output_type": "stream",
     "text": [
      "You predicted right answer\n",
      "\n",
      "Your answer is wrong\n",
      "\n",
      "Correct answer is a\n",
      "\n",
      " 2) At the 2018 World Hindi Conference (WHC), the Panini Language Laboratory has been gifted by Government of India (GoI) to which country?\n",
      " <a> Maldives\n",
      " <b> South Africe\n",
      " <c> Australia\n",
      " <d> Mauritius\n"
     ]
    }
   ],
   "source": [
    "import json\n",
    "import os\n",
    "import time\n",
    "import random\n",
    "helpLineUsed = False\n",
    " \n",
    " \n",
    "def fiftyFifty(question_ansDict):\n",
    "    print(question_ansDict.keys())\n",
    "    keysList = list(question_ansDict.keys())\n",
    "    fiftyFiftyDict = {'q': question_ansDict['q'],\n",
    "                      'ca': question_ansDict['ca'],\n",
    "                      }\n",
    "    print(question_ansDict['ca'])\n",
    "    # correctAnswerKey = optionMap[question_ansDict['ca']]\n",
    "    correctAnswerKey = question_ansDict['ca']\n",
    "    fiftyFiftyDict[correctAnswerKey] = question_ansDict[correctAnswerKey]\n",
    "    keysList.pop(keysList.index('q'))\n",
    "    keysList.pop(keysList.index('ca'))\n",
    "    keysList.pop(keysList.index(correctAnswerKey))\n",
    "    while len(keysList) > 1:\n",
    "        randomIndex = random.randint(0, len(keysList) - 1)\n",
    "        keysList.pop(randomIndex)\n",
    "    else:\n",
    "        fiftyFiftyDict[keysList[0]] = question_ansDict[keysList[0]]\n",
    "    return fiftyFiftyDict\n",
    " \n",
    " \n",
    "def showOptionAnswer(question_dict, isFiftyFifty):\n",
    "    print(\"\\n {questionNo}) {question}\".format(questionNo=i + 1, question=question_dict['q']))\n",
    "    # keyMap = [\"a\", \"b\", \"c\", \"d\"]\n",
    "    optionBuilder = \"\"\n",
    "    for key, value in sorted(question_dict.items()):\n",
    "        if key == 'ca' or key == 'q':\n",
    "            continue\n",
    "        optionBuilder += key + \"/\"\n",
    "        print(\" <{optionNo}> {option}\".format(optionNo=key, option=value))\n",
    "    if isFiftyFifty:\n",
    "        answer = input(\"\\n Enter the option ({}) \".format(optionBuilder))\n",
    "    else:\n",
    "        answer = input(\"\\n Enter the option (a/b/c/d) or h for helpline or q to quit: \")\n",
    "    return answer\n",
    " \n",
    "print(\" ~~~~~~ WELCOME TO QUIZ ~~~~~\")\n",
    "print(\"\\n ### RULES OF THE GAME ###\")\n",
    "print(\" 1. Choose one of the correct option from each question (a/b/c/d)\")\n",
    "print(\" 2. h for help\")\n",
    "print(\" 3. q to quit\")\n",
    "print(\"\\n ### BEST OF LUCK ###\\n\")\n",
    " \n",
    "with open(\"qa.json\", \"r\") as qa:\n",
    "    questionSet = qa.read()\n",
    "    # json saved in the file is jsonArray hence loads() this function converts it into list\n",
    "    questionsList = json.loads(questionSet)\n",
    "    rightAnswer = 0\n",
    "    i = 0\n",
    "    while i < len(questionsList):\n",
    "        question_dict = questionsList[i]\n",
    "        answer = showOptionAnswer(question_dict, False)\n",
    "        i += 1\n",
    "        if answer == 'h':\n",
    "            os.system(\"clear\")\n",
    "            if helpLineUsed:\n",
    "                print(\"<<< Help Line Already Used >>>\")\n",
    "                i -= 1\n",
    "            else:\n",
    "                helpLineUsed = True\n",
    "                question_dict = fiftyFifty(question_dict)\n",
    "                answer = showOptionAnswer(question_dict, True)\n",
    " \n",
    "        if answer == 'q':\n",
    "            print(\"\\nGame Over\")\n",
    "            print(\"You made {} right. Your score is {} \".format(rightAnswer, str(rightAnswer * 10)))\n",
    "            exit()\n",
    " \n",
    "        if question_dict['ca'] == answer:\n",
    "            print(\"You predicted right answer\")\n",
    "            rightAnswer += 1\n",
    " \n",
    "        if not helpLineUsed:\n",
    "            print(\"\\nYour answer is wrong\")\n",
    "            print(\"\\nCorrect answer is {correctAnswer}\".format(correctAnswer=question_dict['ca']))\n",
    " \n",
    "        time.sleep(1)\n",
    "        os.system(\"clear\")\n",
    " \n",
    "    else:\n",
    "        print(\"\\n!!!Game Over\")\n",
    "        print(\"You made {} right. Your score is {} \".format(rightAnswer, str(rightAnswer * 10)))"
   ]
  },
  {
   "cell_type": "code",
   "execution_count": null,
   "id": "e7af96c6-03ad-4eed-bf88-aba012e970eb",
   "metadata": {},
   "outputs": [],
   "source": []
  }
 ],
 "metadata": {
  "kernelspec": {
   "display_name": "Python 3 (ipykernel)",
   "language": "python",
   "name": "python3"
  },
  "language_info": {
   "codemirror_mode": {
    "name": "ipython",
    "version": 3
   },
   "file_extension": ".py",
   "mimetype": "text/x-python",
   "name": "python",
   "nbconvert_exporter": "python",
   "pygments_lexer": "ipython3",
   "version": "3.10.6"
  }
 },
 "nbformat": 4,
 "nbformat_minor": 5
}
